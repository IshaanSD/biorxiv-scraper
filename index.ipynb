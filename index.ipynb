{
 "cells": [
  {
   "cell_type": "markdown",
   "metadata": {},
   "source": [
    "# bioRxiv Scraper\n",
    "\n",
    "> A simple web scraper for scraping articles and their metadata from bioRxiv."
   ]
  },
  {
   "cell_type": "markdown",
   "metadata": {},
   "source": [
    "## Install"
   ]
  },
  {
   "cell_type": "markdown",
   "metadata": {},
   "source": [
    "```\n",
    "git clone https://github.com/JohnGiorgi/biorxiv_scraper.git\n",
    "cd biorxiv-scraper\n",
    "pip install -e .\n",
    "```"
   ]
  },
  {
   "cell_type": "markdown",
   "metadata": {},
   "source": [
    "## How to use\n",
    "\n",
    "Everything happens via the `bioRxivScraper` class. Begin by creating an instance"
   ]
  },
  {
   "cell_type": "code",
   "execution_count": null,
   "metadata": {},
   "outputs": [
    {
     "evalue": "Error: Failed to connect to remote Jupyter notebook.\r\nCheck that the Jupyter Server URI setting has a valid running server specified.\r\nhttp://localhost:8888/\r\nError: Failed to connect to password protected server. Check that password is correct.",
     "output_type": "error"
    }
   ],
   "source": [
    "from biorxiv_scraper.core import bioRxivScraper\n",
    "\n",
    "scraper = bioRxivScraper()"
   ]
  },
  {
   "cell_type": "markdown",
   "metadata": {},
   "source": [
    "You can then call its various methods for scraping bioRxiv. For example, to scrape all articles uploaded in 2019 under the subject area \"Animal Behavior and Cognition\""
   ]
  },
  {
   "cell_type": "code",
   "execution_count": null,
   "metadata": {},
   "outputs": [],
   "source": [
    "scraped_content = scraper.by_year(2019, subject_areas=\"Animal Behavior and Cognition\")"
   ]
  },
  {
   "cell_type": "markdown",
   "metadata": {},
   "source": [
    "`scraped_content` is a dictionary keyed by [doi](https://www.doi.org/), that contains the scraped data and metadata for each article"
   ]
  },
  {
   "cell_type": "code",
   "execution_count": null,
   "metadata": {},
   "outputs": [],
   "source": [
    "#hide\n",
    "from nbdev.export2html import *\n",
    "notebook2html()"
   ]
  }
 ],
 "metadata": {
  "kernelspec": {
   "display_name": "Python [conda env:biorxiv] *",
   "language": "python",
   "name": "conda-env-biorxiv-py"
  }
 },
 "nbformat": 4,
 "nbformat_minor": 4
}
